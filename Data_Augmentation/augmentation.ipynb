{
 "cells": [
  {
   "cell_type": "code",
   "execution_count": 1,
   "metadata": {},
   "outputs": [],
   "source": [
    "from data_aug.data_aug import *\n",
    "from data_aug.bbox_util import *\n",
    "import numpy as np \n",
    "import matplotlib.pyplot as plt \n",
    "import glob\n",
    "import pandas as pd\n",
    "%matplotlib inline"
   ]
  },
  {
   "cell_type": "code",
   "execution_count": 2,
   "metadata": {},
   "outputs": [],
   "source": [
    "seq0 = Sequence([ Rotate(0)])\n",
    "seq1 = Sequence([RandomHorizontalFlip(), RandomTranslate(0.13), Rotate(90), RandomShear(0.09)])\n",
    "seq2 = Sequence([RandomTranslate(0.13), Rotate(90), RandomShear(0.09)])\n",
    "seq3 = Sequence([RandomHorizontalFlip(), RandomTranslate(0.09), Rotate(180), RandomShear(0.09)])\n",
    "seq4 = Sequence([RandomTranslate(0.13), Rotate(180), RandomShear(0.09)])\n",
    "seq5 = Sequence([RandomHorizontalFlip(), RandomTranslate(0.13), Rotate(270), RandomShear(0.09)])\n",
    "Sequences=[seq0,seq1,seq2,seq3,seq4,seq5]"
   ]
  },
  {
   "cell_type": "code",
   "execution_count": 8,
   "metadata": {},
   "outputs": [],
   "source": [
    "good=pd.read_csv('good.csv',index_col='ID')\n",
    "bad=pd.read_csv('bad.csv',index_col='ID')"
   ]
  },
  {
   "cell_type": "code",
   "execution_count": 17,
   "metadata": {},
   "outputs": [],
   "source": [
    "path = 'C:\\\\Users\\Lenovo\\Desktop\\downloads\\cropped\\\\bad\\\\'\n",
    "filenames = glob.glob(path + \"\\*.jpeg\")"
   ]
  },
  {
   "cell_type": "code",
   "execution_count": 19,
   "metadata": {},
   "outputs": [],
   "source": [
    "augmented_bad=pd.DataFrame()\n",
    "for file in filenames:\n",
    "    img=plt.imread(file)\n",
    "    bb=np.array(bad.loc[[file[46:]],['x1','x2','y1','y2','c']].to_numpy()).astype('float64')\n",
    "    for i,s in enumerate(Sequences):\n",
    "        img_, bb_ = s(img.copy(), bb.copy())\n",
    "        path=\"C:\\\\Users\\Lenovo\\Desktop\\\\augmented\\\\\"+file[46:-5]+'seq'+str(i)+'.jpeg'\n",
    "        plt.imsave(path,img_)\n",
    "        dict={'ID':path[34:],'x1':bb_[0][0],'y1':bb_[0][1],'x2':bb_[0][2],'y2':bb_[0][3],'c':bb_[0][4]}\n",
    "        line=pd.DataFrame(pd.Series(dict)).T\n",
    "        augmented_bad=pd.concat([augmented_bad,line],ignore_index=True)\n",
    "augmented_bad.set_index('ID',inplace=True)\n",
    "augmented_bad.to_csv('augmented_bad.csv')\n",
    "    "
   ]
  },
  {
   "cell_type": "code",
   "execution_count": 20,
   "metadata": {},
   "outputs": [],
   "source": [
    "path = 'C:\\\\Users\\Lenovo\\Desktop\\downloads\\cropped\\\\good\\\\'\n",
    "filenames = glob.glob(path + \"\\*.jpeg\")"
   ]
  },
  {
   "cell_type": "code",
   "execution_count": 21,
   "metadata": {},
   "outputs": [],
   "source": [
    "augmented_good=pd.DataFrame()\n",
    "for file in filenames:\n",
    "    img=plt.imread(file)\n",
    "    bb=np.array(good.loc[[file[47:]],['x1','x2','y1','y2','c']].to_numpy()).astype('float16')\n",
    "   \n",
    "   \n",
    "    for i,s in enumerate(Sequences):\n",
    "        img_, bb_ = s(img.copy(), bb.copy())\n",
    "        path=\"C:\\\\Users\\Lenovo\\Desktop\\\\augmented\\\\\"+file[47:-5]+'seq'+str(i)+'.jpeg'\n",
    "        plt.imsave(path,img_)\n",
    "        dict={'ID':path[34:],'x1':bb_[0][0],'y1':bb_[0][1],'x2':bb_[0][2],'y2':bb_[0][3],'c':bb_[0][4]}\n",
    "        line=pd.DataFrame(pd.Series(dict)).T\n",
    "        augmented_good=pd.concat([augmented_good,line],ignore_index=True)\n",
    "augmented_good.set_index('ID',inplace=True)\n",
    "augmented_good.to_csv('augmented_good.csv')"
   ]
  },
  {
   "cell_type": "code",
   "execution_count": null,
   "metadata": {},
   "outputs": [],
   "source": []
  }
 ],
 "metadata": {
  "kernelspec": {
   "display_name": "Python 3.9.7 64-bit",
   "language": "python",
   "name": "python3"
  },
  "language_info": {
   "codemirror_mode": {
    "name": "ipython",
    "version": 3
   },
   "file_extension": ".py",
   "mimetype": "text/x-python",
   "name": "python",
   "nbconvert_exporter": "python",
   "pygments_lexer": "ipython3",
   "version": "3.9.7"
  },
  "orig_nbformat": 4,
  "vscode": {
   "interpreter": {
    "hash": "8f8cf99212f81ad0c4765861267244807ee1c18364846cdce387b28994a977ba"
   }
  }
 },
 "nbformat": 4,
 "nbformat_minor": 2
}
