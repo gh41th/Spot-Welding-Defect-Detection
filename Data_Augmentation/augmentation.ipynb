{
 "cells": [
  {
   "cell_type": "code",
   "execution_count": 7,
   "metadata": {},
   "outputs": [],
   "source": [
    "from data_aug.data_aug import *\n",
    "from data_aug.bbox_util import *\n",
    "import numpy as np \n",
    "import matplotlib.pyplot as plt \n",
    "import glob\n",
    "import pandas as pd\n",
    "%matplotlib inline"
   ]
  },
  {
   "cell_type": "code",
   "execution_count": 8,
   "metadata": {},
   "outputs": [],
   "source": [
    "seq0 = Sequence([])\n",
    "seq1 = Sequence([RandomHorizontalFlip(), Rotate(90), RandomShear(0.09)])\n",
    "seq2 = Sequence([RandomTranslate(0.13), Rotate(90)])\n",
    "seq3 = Sequence([RandomHorizontalFlip(), Rotate(180), RandomShear(0.09)])\n",
    "seq4 = Sequence([RandomTranslate(0.13), Rotate(180)])\n",
    "seq5 = Sequence([RandomHorizontalFlip(), Rotate(270), RandomShear(0.09)])\n",
    "Sequences=[seq0,seq1,seq2,seq3,seq4,seq5]"
   ]
  },
  {
   "cell_type": "code",
   "execution_count": 9,
   "metadata": {},
   "outputs": [],
   "source": [
    "good=pd.read_csv('bbox_new.csv',index_col='ID')\n",
    "bad=pd.read_csv('bad.csv',index_col='ID')"
   ]
  },
  {
   "cell_type": "code",
   "execution_count": 10,
   "metadata": {},
   "outputs": [],
   "source": [
    "path = 'C:\\\\Users\\Lenovo\\Desktop\\\\new\\\\'\n",
    "filenames = glob.glob(path + \"\\*.JPG\")"
   ]
  },
  {
   "cell_type": "code",
   "execution_count": 11,
   "metadata": {},
   "outputs": [
    {
     "data": {
      "text/plain": [
       "['C:\\\\Users\\\\Lenovo\\\\Desktop\\\\new\\\\IMG_4544.JPG',\n",
       " 'C:\\\\Users\\\\Lenovo\\\\Desktop\\\\new\\\\IMG_4545.JPG',\n",
       " 'C:\\\\Users\\\\Lenovo\\\\Desktop\\\\new\\\\IMG_4576.JPG',\n",
       " 'C:\\\\Users\\\\Lenovo\\\\Desktop\\\\new\\\\IMG_4577.JPG',\n",
       " 'C:\\\\Users\\\\Lenovo\\\\Desktop\\\\new\\\\IMG_4578.JPG']"
      ]
     },
     "execution_count": 11,
     "metadata": {},
     "output_type": "execute_result"
    }
   ],
   "source": [
    "filenames"
   ]
  },
  {
   "cell_type": "code",
   "execution_count": 12,
   "metadata": {},
   "outputs": [],
   "source": [
    "augmented_bad=pd.DataFrame()\n",
    "for file in filenames:\n",
    "    img=plt.imread(file)\n",
    "    bb=np.array(good.loc[[file[len(path):]],['x1','y1','x2','y2','c']].to_numpy()).astype('float64')\n",
    "    for i,s in enumerate(Sequences):\n",
    "        img_, bb_ = s(img.copy(), bb.copy())\n",
    "        path1=\"C:\\\\Users\\Lenovo\\Desktop\\\\augmented\\\\\"+file[len(path):-4]+'_seq'+str(i)+'.jpeg'\n",
    "        plt.imsave(path1,img_)\n",
    "        for b in bb_:\n",
    "            dict={'ID':path1[34:],'x1':b[0],'y1':b[1],'x2':b[2],'y2':b[3],'c':b[4]}\n",
    "            line=pd.DataFrame(pd.Series(dict)).T\n",
    "            augmented_bad=pd.concat([augmented_bad,line],ignore_index=True)\n",
    "augmented_bad.set_index('ID',inplace=True)\n",
    "augmented_bad.to_csv('augmented_new.csv')\n",
    "    "
   ]
  },
  {
   "cell_type": "code",
   "execution_count": 10,
   "metadata": {},
   "outputs": [],
   "source": [
    "path = 'C:\\\\Users\\Lenovo\\Desktop\\\\good\\\\'\n",
    "filenames = glob.glob(path + \"\\*.jpeg\")"
   ]
  },
  {
   "cell_type": "code",
   "execution_count": 11,
   "metadata": {},
   "outputs": [
    {
     "data": {
      "text/plain": [
       "['C:\\\\Users\\\\Lenovo\\\\Desktop\\\\good\\\\-10full-1.jpeg',\n",
       " 'C:\\\\Users\\\\Lenovo\\\\Desktop\\\\good\\\\-10full-2.jpeg',\n",
       " 'C:\\\\Users\\\\Lenovo\\\\Desktop\\\\good\\\\-10full-3.jpeg',\n",
       " 'C:\\\\Users\\\\Lenovo\\\\Desktop\\\\good\\\\-10full-4.jpeg',\n",
       " 'C:\\\\Users\\\\Lenovo\\\\Desktop\\\\good\\\\-10full-5.jpeg',\n",
       " 'C:\\\\Users\\\\Lenovo\\\\Desktop\\\\good\\\\-10full-6.jpeg',\n",
       " 'C:\\\\Users\\\\Lenovo\\\\Desktop\\\\good\\\\-10low-1.jpeg',\n",
       " 'C:\\\\Users\\\\Lenovo\\\\Desktop\\\\good\\\\-10low-2.jpeg',\n",
       " 'C:\\\\Users\\\\Lenovo\\\\Desktop\\\\good\\\\-10low-3.jpeg',\n",
       " 'C:\\\\Users\\\\Lenovo\\\\Desktop\\\\good\\\\-10low-4.jpeg',\n",
       " 'C:\\\\Users\\\\Lenovo\\\\Desktop\\\\good\\\\-10low-5.jpeg',\n",
       " 'C:\\\\Users\\\\Lenovo\\\\Desktop\\\\good\\\\-10low-6.jpeg',\n",
       " 'C:\\\\Users\\\\Lenovo\\\\Desktop\\\\good\\\\-10mid-1.jpeg',\n",
       " 'C:\\\\Users\\\\Lenovo\\\\Desktop\\\\good\\\\-10mid-2.jpeg',\n",
       " 'C:\\\\Users\\\\Lenovo\\\\Desktop\\\\good\\\\-10mid-3.jpeg',\n",
       " 'C:\\\\Users\\\\Lenovo\\\\Desktop\\\\good\\\\-10mid-4.jpeg',\n",
       " 'C:\\\\Users\\\\Lenovo\\\\Desktop\\\\good\\\\-10mid-5.jpeg',\n",
       " 'C:\\\\Users\\\\Lenovo\\\\Desktop\\\\good\\\\-10mid-6.jpeg',\n",
       " 'C:\\\\Users\\\\Lenovo\\\\Desktop\\\\good\\\\0full-15.jpeg',\n",
       " 'C:\\\\Users\\\\Lenovo\\\\Desktop\\\\good\\\\0full-20.jpeg',\n",
       " 'C:\\\\Users\\\\Lenovo\\\\Desktop\\\\good\\\\0full-31.jpeg',\n",
       " 'C:\\\\Users\\\\Lenovo\\\\Desktop\\\\good\\\\0full-32.jpeg',\n",
       " 'C:\\\\Users\\\\Lenovo\\\\Desktop\\\\good\\\\0full-40.jpeg',\n",
       " 'C:\\\\Users\\\\Lenovo\\\\Desktop\\\\good\\\\0full-5.jpeg',\n",
       " 'C:\\\\Users\\\\Lenovo\\\\Desktop\\\\good\\\\0full-6.jpeg',\n",
       " 'C:\\\\Users\\\\Lenovo\\\\Desktop\\\\good\\\\0full-8.jpeg',\n",
       " 'C:\\\\Users\\\\Lenovo\\\\Desktop\\\\good\\\\0low-13.jpeg',\n",
       " 'C:\\\\Users\\\\Lenovo\\\\Desktop\\\\good\\\\0low-14.jpeg',\n",
       " 'C:\\\\Users\\\\Lenovo\\\\Desktop\\\\good\\\\0low-15.jpeg',\n",
       " 'C:\\\\Users\\\\Lenovo\\\\Desktop\\\\good\\\\0low-36.jpeg',\n",
       " 'C:\\\\Users\\\\Lenovo\\\\Desktop\\\\good\\\\0low-37.jpeg',\n",
       " 'C:\\\\Users\\\\Lenovo\\\\Desktop\\\\good\\\\0low-39.jpeg',\n",
       " 'C:\\\\Users\\\\Lenovo\\\\Desktop\\\\good\\\\0low-8.jpeg',\n",
       " 'C:\\\\Users\\\\Lenovo\\\\Desktop\\\\good\\\\0mid-12.jpeg',\n",
       " 'C:\\\\Users\\\\Lenovo\\\\Desktop\\\\good\\\\0mid-13.jpeg',\n",
       " 'C:\\\\Users\\\\Lenovo\\\\Desktop\\\\good\\\\0mid-14.jpeg',\n",
       " 'C:\\\\Users\\\\Lenovo\\\\Desktop\\\\good\\\\0mid-15.jpeg',\n",
       " 'C:\\\\Users\\\\Lenovo\\\\Desktop\\\\good\\\\0mid-16.jpeg',\n",
       " 'C:\\\\Users\\\\Lenovo\\\\Desktop\\\\good\\\\0mid-36.jpeg',\n",
       " 'C:\\\\Users\\\\Lenovo\\\\Desktop\\\\good\\\\0mid-37.jpeg',\n",
       " 'C:\\\\Users\\\\Lenovo\\\\Desktop\\\\good\\\\0mid-8.jpeg',\n",
       " 'C:\\\\Users\\\\Lenovo\\\\Desktop\\\\good\\\\10full-1.jpeg',\n",
       " 'C:\\\\Users\\\\Lenovo\\\\Desktop\\\\good\\\\10full-2.jpeg',\n",
       " 'C:\\\\Users\\\\Lenovo\\\\Desktop\\\\good\\\\10full-3.jpeg',\n",
       " 'C:\\\\Users\\\\Lenovo\\\\Desktop\\\\good\\\\10full-4.jpeg',\n",
       " 'C:\\\\Users\\\\Lenovo\\\\Desktop\\\\good\\\\10full-5.jpeg',\n",
       " 'C:\\\\Users\\\\Lenovo\\\\Desktop\\\\good\\\\10full-6.jpeg',\n",
       " 'C:\\\\Users\\\\Lenovo\\\\Desktop\\\\good\\\\10low-1.jpeg',\n",
       " 'C:\\\\Users\\\\Lenovo\\\\Desktop\\\\good\\\\10low-2.jpeg',\n",
       " 'C:\\\\Users\\\\Lenovo\\\\Desktop\\\\good\\\\10low-3.jpeg',\n",
       " 'C:\\\\Users\\\\Lenovo\\\\Desktop\\\\good\\\\10low-4.jpeg',\n",
       " 'C:\\\\Users\\\\Lenovo\\\\Desktop\\\\good\\\\10low-6.jpeg',\n",
       " 'C:\\\\Users\\\\Lenovo\\\\Desktop\\\\good\\\\10low-7.jpeg',\n",
       " 'C:\\\\Users\\\\Lenovo\\\\Desktop\\\\good\\\\10low-8.jpeg',\n",
       " 'C:\\\\Users\\\\Lenovo\\\\Desktop\\\\good\\\\10low-9.jpeg',\n",
       " 'C:\\\\Users\\\\Lenovo\\\\Desktop\\\\good\\\\10mid-1.jpeg',\n",
       " 'C:\\\\Users\\\\Lenovo\\\\Desktop\\\\good\\\\10mid-2.jpeg',\n",
       " 'C:\\\\Users\\\\Lenovo\\\\Desktop\\\\good\\\\10mid-3.jpeg',\n",
       " 'C:\\\\Users\\\\Lenovo\\\\Desktop\\\\good\\\\10mid-4.jpeg',\n",
       " 'C:\\\\Users\\\\Lenovo\\\\Desktop\\\\good\\\\10mid-5.jpeg',\n",
       " 'C:\\\\Users\\\\Lenovo\\\\Desktop\\\\good\\\\10mid-6.jpeg',\n",
       " 'C:\\\\Users\\\\Lenovo\\\\Desktop\\\\good\\\\10mid-7.jpeg',\n",
       " 'C:\\\\Users\\\\Lenovo\\\\Desktop\\\\good\\\\10mid-8.jpeg']"
      ]
     },
     "execution_count": 11,
     "metadata": {},
     "output_type": "execute_result"
    }
   ],
   "source": [
    "filenames"
   ]
  },
  {
   "cell_type": "code",
   "execution_count": 12,
   "metadata": {},
   "outputs": [
    {
     "ename": "NameError",
     "evalue": "name 'augmented_good' is not defined",
     "output_type": "error",
     "traceback": [
      "\u001b[1;31m---------------------------------------------------------------------------\u001b[0m",
      "\u001b[1;31mNameError\u001b[0m                                 Traceback (most recent call last)",
      "\u001b[1;32mc:\\Users\\Lenovo\\Desktop\\Projects\\Internship\\Spot Welding Defect Detection\\Data_Augmentation\\augmentation.ipynb Cellule 10\u001b[0m in \u001b[0;36m<cell line: 1>\u001b[1;34m()\u001b[0m\n\u001b[1;32m----> <a href='vscode-notebook-cell:/c%3A/Users/Lenovo/Desktop/Projects/Internship/Spot%20Welding%20Defect%20Detection/Data_Augmentation/augmentation.ipynb#ch0000009?line=0'>1</a>\u001b[0m augmented_good\n",
      "\u001b[1;31mNameError\u001b[0m: name 'augmented_good' is not defined"
     ]
    }
   ],
   "source": [
    "augmented_good"
   ]
  },
  {
   "cell_type": "code",
   "execution_count": 13,
   "metadata": {},
   "outputs": [],
   "source": [
    "augmented_good=pd.DataFrame()\n",
    "for file in filenames:\n",
    "    img=plt.imread(file)\n",
    "    bb=np.array(good.loc[[file[29:]],['x1','y1','x2','y2','c']].to_numpy()).astype('float16')\n",
    "   \n",
    "   \n",
    "    for i,s in enumerate(Sequences):\n",
    "        img_, bb_ = s(img.copy(), bb.copy())\n",
    "        path=\"C:\\\\Users\\Lenovo\\Desktop\\\\augmented_good\\\\\"+\"good-\"+file[29:-5]+'seq'+str(i)+'.jpeg'\n",
    "        plt.imsave(path,img_)\n",
    "        dict={'ID':path[39:],'x1':bb_[0][0],'y1':bb_[0][1],'x2':bb_[0][2],'y2':bb_[0][3],'c':bb_[0][4]}\n",
    "        line=pd.DataFrame(pd.Series(dict)).T\n",
    "        augmented_good=pd.concat([augmented_good,line],ignore_index=True)\n",
    "augmented_good.set_index('ID',inplace=True)\n",
    "augmented_good.to_csv('augmented_good.csv')"
   ]
  },
  {
   "cell_type": "code",
   "execution_count": 14,
   "metadata": {},
   "outputs": [],
   "source": [
    "path=\"C:\\\\Users\\Lenovo\\Desktop\\\\augmented_good\\\\\"+\"good_\"+file[29:-5]+'seq'+str(i)+'.jpeg'"
   ]
  },
  {
   "cell_type": "code",
   "execution_count": 34,
   "metadata": {},
   "outputs": [
    {
     "data": {
      "text/plain": [
       "'good_10mid-8seq5.jpeg'"
      ]
     },
     "execution_count": 34,
     "metadata": {},
     "output_type": "execute_result"
    }
   ],
   "source": [
    "path[39:]"
   ]
  },
  {
   "cell_type": "code",
   "execution_count": null,
   "metadata": {},
   "outputs": [],
   "source": []
  }
 ],
 "metadata": {
  "kernelspec": {
   "display_name": "Python 3.9.7 64-bit",
   "language": "python",
   "name": "python3"
  },
  "language_info": {
   "codemirror_mode": {
    "name": "ipython",
    "version": 3
   },
   "file_extension": ".py",
   "mimetype": "text/x-python",
   "name": "python",
   "nbconvert_exporter": "python",
   "pygments_lexer": "ipython3",
   "version": "3.9.7"
  },
  "orig_nbformat": 4,
  "vscode": {
   "interpreter": {
    "hash": "8f8cf99212f81ad0c4765861267244807ee1c18364846cdce387b28994a977ba"
   }
  }
 },
 "nbformat": 4,
 "nbformat_minor": 2
}
