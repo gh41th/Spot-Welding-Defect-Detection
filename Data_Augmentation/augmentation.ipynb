{
 "cells": [
  {
   "cell_type": "code",
   "execution_count": 1,
   "metadata": {},
   "outputs": [],
   "source": [
    "from data_aug.data_aug import *\n",
    "from data_aug.bbox_util import *\n",
    "import numpy as np \n",
    "import matplotlib.pyplot as plt \n",
    "import glob\n",
    "import pandas as pd\n",
    "%matplotlib inline"
   ]
  },
  {
   "cell_type": "code",
   "execution_count": 2,
   "metadata": {},
   "outputs": [],
   "source": [
    "seq0 = Sequence([])\n",
    "seq1 = Sequence([RandomHorizontalFlip(), Rotate(180), RandomShear(0.09)])\n",
    "seq2 = Sequence([RandomTranslate(0.13), Rotate(180)])\n",
    "seq3 = Sequence([RandomHorizontalFlip(), Rotate(270), RandomShear(0.09)])\n",
    "\n",
    "seq4 = Sequence([Brightness(-30),RandomHorizontalFlip(), Rotate(180), RandomShear(0.09)])\n",
    "seq5 = Sequence([Brightness(-30),RandomTranslate(0.13), Rotate(180)])\n",
    "seq6 = Sequence([Brightness(-30),RandomHorizontalFlip(), Rotate(270), RandomShear(0.09)])\n",
    "\n",
    "seq7 = Sequence([Brightness(-50),RandomHorizontalFlip(), Rotate(180), RandomShear(0.09)])\n",
    "seq8 = Sequence([Brightness(-50),RandomTranslate(0.13), Rotate(180)])\n",
    "seq9 = Sequence([Brightness(-50),RandomHorizontalFlip(), Rotate(270), RandomShear(0.09)])\n",
    "Sequences=[seq0,seq1,seq2,seq3,seq4,seq5,seq6,seq7,seq8,seq9]"
   ]
  },
  {
   "cell_type": "code",
   "execution_count": 3,
   "metadata": {},
   "outputs": [],
   "source": [
    "good=pd.read_csv('bbox_new.csv',index_col='ID')\n"
   ]
  },
  {
   "cell_type": "code",
   "execution_count": 4,
   "metadata": {},
   "outputs": [],
   "source": [
    "path = 'C:\\\\Users\\Lenovo\\Desktop\\\\Downloads\\\\ghaith\\\\'\n",
    "filenames = glob.glob(path + \"\\*.JPG\")"
   ]
  },
  {
   "cell_type": "code",
   "execution_count": 5,
   "metadata": {},
   "outputs": [
    {
     "data": {
      "text/plain": [
       "['C:\\\\Users\\\\Lenovo\\\\Desktop\\\\Downloads\\\\ghaith\\\\IMG_4779.JPG',\n",
       " 'C:\\\\Users\\\\Lenovo\\\\Desktop\\\\Downloads\\\\ghaith\\\\IMG_4780.JPG',\n",
       " 'C:\\\\Users\\\\Lenovo\\\\Desktop\\\\Downloads\\\\ghaith\\\\IMG_4781.JPG',\n",
       " 'C:\\\\Users\\\\Lenovo\\\\Desktop\\\\Downloads\\\\ghaith\\\\IMG_4782.JPG',\n",
       " 'C:\\\\Users\\\\Lenovo\\\\Desktop\\\\Downloads\\\\ghaith\\\\IMG_4783.JPG',\n",
       " 'C:\\\\Users\\\\Lenovo\\\\Desktop\\\\Downloads\\\\ghaith\\\\IMG_4784.JPG',\n",
       " 'C:\\\\Users\\\\Lenovo\\\\Desktop\\\\Downloads\\\\ghaith\\\\IMG_4785.JPG',\n",
       " 'C:\\\\Users\\\\Lenovo\\\\Desktop\\\\Downloads\\\\ghaith\\\\IMG_4786.JPG',\n",
       " 'C:\\\\Users\\\\Lenovo\\\\Desktop\\\\Downloads\\\\ghaith\\\\IMG_4787.JPG',\n",
       " 'C:\\\\Users\\\\Lenovo\\\\Desktop\\\\Downloads\\\\ghaith\\\\IMG_4788.JPG',\n",
       " 'C:\\\\Users\\\\Lenovo\\\\Desktop\\\\Downloads\\\\ghaith\\\\IMG_4789.JPG',\n",
       " 'C:\\\\Users\\\\Lenovo\\\\Desktop\\\\Downloads\\\\ghaith\\\\IMG_4790.JPG',\n",
       " 'C:\\\\Users\\\\Lenovo\\\\Desktop\\\\Downloads\\\\ghaith\\\\IMG_4791.JPG',\n",
       " 'C:\\\\Users\\\\Lenovo\\\\Desktop\\\\Downloads\\\\ghaith\\\\IMG_4792.JPG',\n",
       " 'C:\\\\Users\\\\Lenovo\\\\Desktop\\\\Downloads\\\\ghaith\\\\IMG_4793.JPG',\n",
       " 'C:\\\\Users\\\\Lenovo\\\\Desktop\\\\Downloads\\\\ghaith\\\\IMG_4794.JPG',\n",
       " 'C:\\\\Users\\\\Lenovo\\\\Desktop\\\\Downloads\\\\ghaith\\\\IMG_4795.JPG',\n",
       " 'C:\\\\Users\\\\Lenovo\\\\Desktop\\\\Downloads\\\\ghaith\\\\IMG_4796.JPG',\n",
       " 'C:\\\\Users\\\\Lenovo\\\\Desktop\\\\Downloads\\\\ghaith\\\\IMG_4797.JPG',\n",
       " 'C:\\\\Users\\\\Lenovo\\\\Desktop\\\\Downloads\\\\ghaith\\\\IMG_4799.JPG',\n",
       " 'C:\\\\Users\\\\Lenovo\\\\Desktop\\\\Downloads\\\\ghaith\\\\IMG_4800.JPG',\n",
       " 'C:\\\\Users\\\\Lenovo\\\\Desktop\\\\Downloads\\\\ghaith\\\\IMG_4801.JPG',\n",
       " 'C:\\\\Users\\\\Lenovo\\\\Desktop\\\\Downloads\\\\ghaith\\\\IMG_4802.JPG',\n",
       " 'C:\\\\Users\\\\Lenovo\\\\Desktop\\\\Downloads\\\\ghaith\\\\IMG_4804.JPG',\n",
       " 'C:\\\\Users\\\\Lenovo\\\\Desktop\\\\Downloads\\\\ghaith\\\\IMG_4805.JPG',\n",
       " 'C:\\\\Users\\\\Lenovo\\\\Desktop\\\\Downloads\\\\ghaith\\\\IMG_4806.JPG',\n",
       " 'C:\\\\Users\\\\Lenovo\\\\Desktop\\\\Downloads\\\\ghaith\\\\IMG_4807.JPG',\n",
       " 'C:\\\\Users\\\\Lenovo\\\\Desktop\\\\Downloads\\\\ghaith\\\\IMG_4808.JPG',\n",
       " 'C:\\\\Users\\\\Lenovo\\\\Desktop\\\\Downloads\\\\ghaith\\\\IMG_4809.JPG',\n",
       " 'C:\\\\Users\\\\Lenovo\\\\Desktop\\\\Downloads\\\\ghaith\\\\IMG_4810.JPG',\n",
       " 'C:\\\\Users\\\\Lenovo\\\\Desktop\\\\Downloads\\\\ghaith\\\\IMG_4811.JPG',\n",
       " 'C:\\\\Users\\\\Lenovo\\\\Desktop\\\\Downloads\\\\ghaith\\\\IMG_4812.JPG',\n",
       " 'C:\\\\Users\\\\Lenovo\\\\Desktop\\\\Downloads\\\\ghaith\\\\IMG_4813.JPG',\n",
       " 'C:\\\\Users\\\\Lenovo\\\\Desktop\\\\Downloads\\\\ghaith\\\\IMG_4814.JPG',\n",
       " 'C:\\\\Users\\\\Lenovo\\\\Desktop\\\\Downloads\\\\ghaith\\\\IMG_4815.JPG',\n",
       " 'C:\\\\Users\\\\Lenovo\\\\Desktop\\\\Downloads\\\\ghaith\\\\IMG_4816.JPG',\n",
       " 'C:\\\\Users\\\\Lenovo\\\\Desktop\\\\Downloads\\\\ghaith\\\\IMG_4817.JPG',\n",
       " 'C:\\\\Users\\\\Lenovo\\\\Desktop\\\\Downloads\\\\ghaith\\\\IMG_4818.JPG',\n",
       " 'C:\\\\Users\\\\Lenovo\\\\Desktop\\\\Downloads\\\\ghaith\\\\IMG_4820.JPG',\n",
       " 'C:\\\\Users\\\\Lenovo\\\\Desktop\\\\Downloads\\\\ghaith\\\\IMG_4821.JPG',\n",
       " 'C:\\\\Users\\\\Lenovo\\\\Desktop\\\\Downloads\\\\ghaith\\\\IMG_4822.JPG',\n",
       " 'C:\\\\Users\\\\Lenovo\\\\Desktop\\\\Downloads\\\\ghaith\\\\IMG_4823.JPG',\n",
       " 'C:\\\\Users\\\\Lenovo\\\\Desktop\\\\Downloads\\\\ghaith\\\\IMG_4825.JPG',\n",
       " 'C:\\\\Users\\\\Lenovo\\\\Desktop\\\\Downloads\\\\ghaith\\\\IMG_4826.JPG',\n",
       " 'C:\\\\Users\\\\Lenovo\\\\Desktop\\\\Downloads\\\\ghaith\\\\IMG_4827.JPG',\n",
       " 'C:\\\\Users\\\\Lenovo\\\\Desktop\\\\Downloads\\\\ghaith\\\\IMG_4828.JPG',\n",
       " 'C:\\\\Users\\\\Lenovo\\\\Desktop\\\\Downloads\\\\ghaith\\\\IMG_4829.JPG',\n",
       " 'C:\\\\Users\\\\Lenovo\\\\Desktop\\\\Downloads\\\\ghaith\\\\IMG_4830.JPG',\n",
       " 'C:\\\\Users\\\\Lenovo\\\\Desktop\\\\Downloads\\\\ghaith\\\\IMG_4831.JPG',\n",
       " 'C:\\\\Users\\\\Lenovo\\\\Desktop\\\\Downloads\\\\ghaith\\\\IMG_4832.JPG',\n",
       " 'C:\\\\Users\\\\Lenovo\\\\Desktop\\\\Downloads\\\\ghaith\\\\IMG_4833.JPG',\n",
       " 'C:\\\\Users\\\\Lenovo\\\\Desktop\\\\Downloads\\\\ghaith\\\\IMG_4834.JPG',\n",
       " 'C:\\\\Users\\\\Lenovo\\\\Desktop\\\\Downloads\\\\ghaith\\\\IMG_4835.JPG',\n",
       " 'C:\\\\Users\\\\Lenovo\\\\Desktop\\\\Downloads\\\\ghaith\\\\IMG_4836.JPG',\n",
       " 'C:\\\\Users\\\\Lenovo\\\\Desktop\\\\Downloads\\\\ghaith\\\\IMG_4837.JPG',\n",
       " 'C:\\\\Users\\\\Lenovo\\\\Desktop\\\\Downloads\\\\ghaith\\\\IMG_4838.JPG',\n",
       " 'C:\\\\Users\\\\Lenovo\\\\Desktop\\\\Downloads\\\\ghaith\\\\IMG_4839.JPG',\n",
       " 'C:\\\\Users\\\\Lenovo\\\\Desktop\\\\Downloads\\\\ghaith\\\\IMG_4840.JPG',\n",
       " 'C:\\\\Users\\\\Lenovo\\\\Desktop\\\\Downloads\\\\ghaith\\\\IMG_4841.JPG',\n",
       " 'C:\\\\Users\\\\Lenovo\\\\Desktop\\\\Downloads\\\\ghaith\\\\IMG_4842.JPG',\n",
       " 'C:\\\\Users\\\\Lenovo\\\\Desktop\\\\Downloads\\\\ghaith\\\\IMG_4843.JPG',\n",
       " 'C:\\\\Users\\\\Lenovo\\\\Desktop\\\\Downloads\\\\ghaith\\\\IMG_4844.JPG',\n",
       " 'C:\\\\Users\\\\Lenovo\\\\Desktop\\\\Downloads\\\\ghaith\\\\IMG_4845.JPG',\n",
       " 'C:\\\\Users\\\\Lenovo\\\\Desktop\\\\Downloads\\\\ghaith\\\\IMG_4846.JPG',\n",
       " 'C:\\\\Users\\\\Lenovo\\\\Desktop\\\\Downloads\\\\ghaith\\\\IMG_4847.JPG',\n",
       " 'C:\\\\Users\\\\Lenovo\\\\Desktop\\\\Downloads\\\\ghaith\\\\IMG_4848.JPG',\n",
       " 'C:\\\\Users\\\\Lenovo\\\\Desktop\\\\Downloads\\\\ghaith\\\\IMG_4849.JPG',\n",
       " 'C:\\\\Users\\\\Lenovo\\\\Desktop\\\\Downloads\\\\ghaith\\\\IMG_4850.JPG',\n",
       " 'C:\\\\Users\\\\Lenovo\\\\Desktop\\\\Downloads\\\\ghaith\\\\IMG_4851.JPG',\n",
       " 'C:\\\\Users\\\\Lenovo\\\\Desktop\\\\Downloads\\\\ghaith\\\\IMG_4852.JPG',\n",
       " 'C:\\\\Users\\\\Lenovo\\\\Desktop\\\\Downloads\\\\ghaith\\\\IMG_4853.JPG',\n",
       " 'C:\\\\Users\\\\Lenovo\\\\Desktop\\\\Downloads\\\\ghaith\\\\IMG_4854.JPG',\n",
       " 'C:\\\\Users\\\\Lenovo\\\\Desktop\\\\Downloads\\\\ghaith\\\\IMG_4855.JPG',\n",
       " 'C:\\\\Users\\\\Lenovo\\\\Desktop\\\\Downloads\\\\ghaith\\\\IMG_4856.JPG',\n",
       " 'C:\\\\Users\\\\Lenovo\\\\Desktop\\\\Downloads\\\\ghaith\\\\IMG_4857.JPG',\n",
       " 'C:\\\\Users\\\\Lenovo\\\\Desktop\\\\Downloads\\\\ghaith\\\\IMG_4858.JPG',\n",
       " 'C:\\\\Users\\\\Lenovo\\\\Desktop\\\\Downloads\\\\ghaith\\\\IMG_4859.JPG',\n",
       " 'C:\\\\Users\\\\Lenovo\\\\Desktop\\\\Downloads\\\\ghaith\\\\IMG_4860.JPG',\n",
       " 'C:\\\\Users\\\\Lenovo\\\\Desktop\\\\Downloads\\\\ghaith\\\\IMG_4861.JPG',\n",
       " 'C:\\\\Users\\\\Lenovo\\\\Desktop\\\\Downloads\\\\ghaith\\\\IMG_4862.JPG']"
      ]
     },
     "execution_count": 5,
     "metadata": {},
     "output_type": "execute_result"
    }
   ],
   "source": [
    "filenames"
   ]
  },
  {
   "cell_type": "code",
   "execution_count": 6,
   "metadata": {},
   "outputs": [
    {
     "name": "stderr",
     "output_type": "stream",
     "text": [
      "c:\\Users\\Lenovo\\Desktop\\Projects\\Internship\\Spot Welding Defect Detection\\Data_Augmentation\\data_aug\\bbox_util.py:82: RuntimeWarning: invalid value encountered in divide\n",
      "  delta_area = ((ar_ - bbox_area(bbox))/ar_)\n",
      "c:\\Users\\Lenovo\\Desktop\\Projects\\Internship\\Spot Welding Defect Detection\\Data_Augmentation\\data_aug\\bbox_util.py:82: RuntimeWarning: invalid value encountered in divide\n",
      "  delta_area = ((ar_ - bbox_area(bbox))/ar_)\n",
      "c:\\Users\\Lenovo\\Desktop\\Projects\\Internship\\Spot Welding Defect Detection\\Data_Augmentation\\data_aug\\bbox_util.py:82: RuntimeWarning: divide by zero encountered in divide\n",
      "  delta_area = ((ar_ - bbox_area(bbox))/ar_)\n",
      "c:\\Users\\Lenovo\\Desktop\\Projects\\Internship\\Spot Welding Defect Detection\\Data_Augmentation\\data_aug\\bbox_util.py:82: RuntimeWarning: invalid value encountered in divide\n",
      "  delta_area = ((ar_ - bbox_area(bbox))/ar_)\n",
      "c:\\Users\\Lenovo\\Desktop\\Projects\\Internship\\Spot Welding Defect Detection\\Data_Augmentation\\data_aug\\bbox_util.py:82: RuntimeWarning: divide by zero encountered in divide\n",
      "  delta_area = ((ar_ - bbox_area(bbox))/ar_)\n",
      "c:\\Users\\Lenovo\\Desktop\\Projects\\Internship\\Spot Welding Defect Detection\\Data_Augmentation\\data_aug\\bbox_util.py:82: RuntimeWarning: invalid value encountered in divide\n",
      "  delta_area = ((ar_ - bbox_area(bbox))/ar_)\n",
      "c:\\Users\\Lenovo\\Desktop\\Projects\\Internship\\Spot Welding Defect Detection\\Data_Augmentation\\data_aug\\bbox_util.py:82: RuntimeWarning: invalid value encountered in divide\n",
      "  delta_area = ((ar_ - bbox_area(bbox))/ar_)\n",
      "c:\\Users\\Lenovo\\Desktop\\Projects\\Internship\\Spot Welding Defect Detection\\Data_Augmentation\\data_aug\\bbox_util.py:82: RuntimeWarning: invalid value encountered in divide\n",
      "  delta_area = ((ar_ - bbox_area(bbox))/ar_)\n",
      "c:\\Users\\Lenovo\\Desktop\\Projects\\Internship\\Spot Welding Defect Detection\\Data_Augmentation\\data_aug\\bbox_util.py:82: RuntimeWarning: invalid value encountered in divide\n",
      "  delta_area = ((ar_ - bbox_area(bbox))/ar_)\n"
     ]
    }
   ],
   "source": [
    "augmented_bad=pd.DataFrame()\n",
    "for file in filenames:\n",
    "    img=plt.imread(file)\n",
    "    bb=np.array(good.loc[[file[len(path):]],['x1','y1','x2','y2','c']].to_numpy()).astype('float64')\n",
    "    for i,s in enumerate(Sequences):\n",
    "        img_, bb_ = s(img.copy(), bb.copy())\n",
    "        path1=\"C:\\\\Users\\Lenovo\\Desktop\\\\augmented\\\\\"+file[len(path):-4]+'_seq'+str(i)+'.jpeg'\n",
    "        plt.imsave(path1,img_)\n",
    "        for b in bb_:\n",
    "            dict={'ID':path1[34:],'x1':int(b[0]),'y1':int(b[1]),'x2':int(b[2]),'y2':int(b[3]),'c':int(b[4])}\n",
    "            line=pd.DataFrame(pd.Series(dict)).T\n",
    "            augmented_bad=pd.concat([augmented_bad,line],ignore_index=True)\n",
    "augmented_bad.set_index('ID',inplace=True)\n",
    "augmented_bad.to_csv('augmented_new.csv')\n",
    "    "
   ]
  },
  {
   "cell_type": "code",
   "execution_count": null,
   "metadata": {},
   "outputs": [],
   "source": []
  }
 ],
 "metadata": {
  "kernelspec": {
   "display_name": "Python 3.9.7 64-bit",
   "language": "python",
   "name": "python3"
  },
  "language_info": {
   "codemirror_mode": {
    "name": "ipython",
    "version": 3
   },
   "file_extension": ".py",
   "mimetype": "text/x-python",
   "name": "python",
   "nbconvert_exporter": "python",
   "pygments_lexer": "ipython3",
   "version": "3.9.7"
  },
  "orig_nbformat": 4,
  "vscode": {
   "interpreter": {
    "hash": "8f8cf99212f81ad0c4765861267244807ee1c18364846cdce387b28994a977ba"
   }
  }
 },
 "nbformat": 4,
 "nbformat_minor": 2
}
