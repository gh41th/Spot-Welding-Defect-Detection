{
 "cells": [
  {
   "cell_type": "code",
   "execution_count": 1,
   "metadata": {},
   "outputs": [],
   "source": [
    "#Import libraries\n",
    "import pandas as pd \n",
    "import glob\n",
    "import xml.etree.ElementTree as Xet\n",
    "import cv2\n",
    "import numpy as np "
   ]
  },
  {
   "cell_type": "code",
   "execution_count": 2,
   "metadata": {},
   "outputs": [],
   "source": [
    "#Get annotated image's pathes\n",
    "annotation_path = 'C:\\\\Users\\Lenovo\\Desktop\\\\Downloads\\\\ghaith\\\\'\n",
    "filenames = glob.glob(annotation_path + \"\\*.JPG\")\n",
    "annotation = pd.DataFrame()"
   ]
  },
  {
   "cell_type": "code",
   "execution_count": 3,
   "metadata": {},
   "outputs": [],
   "source": [
    "extract_csv_path=\"bbox_new.csv\""
   ]
  },
  {
   "cell_type": "code",
   "execution_count": 4,
   "metadata": {},
   "outputs": [],
   "source": [
    "#Extract multiple bboxes from each image \n",
    "New=pd.DataFrame()\n",
    "cols = [\"ID\",\"x1\", \"y1\", \"x2\", \"y2\", \"c\"]\n",
    "for file in filenames:\n",
    "    file=file[:-4]+'.xml'\n",
    "    xmlparse = Xet.parse(file)\n",
    "    root = xmlparse.getroot()\n",
    "    rows = []\n",
    "    for i in root:\n",
    "        if i.find(\"bndbox/xmin\")!=None:\n",
    "            x1= int(i.find(\"bndbox/xmin\").text)\n",
    "            y1 = int(i.find(\"bndbox/ymax\").text)\n",
    "            x2 = int(i.find(\"bndbox/xmax\").text)\n",
    "            y2 = int(i.find(\"bndbox/ymin\").text)\n",
    "            d = i.find(\"name\").text\n",
    "            if d=='bad':\n",
    "                c=0\n",
    "            else: c=1\n",
    "            ID=file[len(\n",
    "                annotation_path):-4]+'.JPG'\n",
    "            rows.append({\"ID\": ID,\n",
    "                 \"x1\": x1,\n",
    "                 \"y1\": y1,\n",
    "                 \"x2\": x2,\n",
    "                 \"y2\": y2,\n",
    "                 \"c\":c})\n",
    "        line = pd.DataFrame(rows, columns=cols)\n",
    "    New=pd.concat([New,line],ignore_index=True)\n",
    "New.set_index(\"ID\",inplace=True)\n",
    "New.to_csv(extract_csv_path)   "
   ]
  },
  {
   "cell_type": "code",
   "execution_count": 17,
   "metadata": {},
   "outputs": [
    {
     "ename": "FileNotFoundError",
     "evalue": "[Errno 2] No such file or directory: 'C:\\\\Users\\\\Lenovo\\\\Desktop\\\\new-xml\\\\IMG_4544xml'",
     "output_type": "error",
     "traceback": [
      "\u001b[1;31m---------------------------------------------------------------------------\u001b[0m",
      "\u001b[1;31mFileNotFoundError\u001b[0m                         Traceback (most recent call last)",
      "\u001b[1;32mc:\\Users\\Lenovo\\Desktop\\Projects\\Internship\\Spot Welding Defect Detection\\Data_Augmentation\\Join_csv.ipynb Cellule 5\u001b[0m in \u001b[0;36m<cell line: 2>\u001b[1;34m()\u001b[0m\n\u001b[0;32m      <a href='vscode-notebook-cell:/c%3A/Users/Lenovo/Desktop/Projects/Internship/Spot%20Welding%20Defect%20Detection/Data_Augmentation/Join_csv.ipynb#ch0000004?line=2'>3</a>\u001b[0m file\u001b[39m=\u001b[39mfile[:\u001b[39m27\u001b[39m]\u001b[39m+\u001b[39m\u001b[39m'\u001b[39m\u001b[39m-xml\u001b[39m\u001b[39m'\u001b[39m\u001b[39m+\u001b[39mfile[\u001b[39m27\u001b[39m:\u001b[39m-\u001b[39m\u001b[39m4\u001b[39m]\u001b[39m+\u001b[39m\u001b[39m'\u001b[39m\u001b[39mxml\u001b[39m\u001b[39m'\u001b[39m\n\u001b[0;32m      <a href='vscode-notebook-cell:/c%3A/Users/Lenovo/Desktop/Projects/Internship/Spot%20Welding%20Defect%20Detection/Data_Augmentation/Join_csv.ipynb#ch0000004?line=4'>5</a>\u001b[0m rows \u001b[39m=\u001b[39m []\n\u001b[1;32m----> <a href='vscode-notebook-cell:/c%3A/Users/Lenovo/Desktop/Projects/Internship/Spot%20Welding%20Defect%20Detection/Data_Augmentation/Join_csv.ipynb#ch0000004?line=5'>6</a>\u001b[0m xmlparse \u001b[39m=\u001b[39m Xet\u001b[39m.\u001b[39;49mparse(file)\n\u001b[0;32m      <a href='vscode-notebook-cell:/c%3A/Users/Lenovo/Desktop/Projects/Internship/Spot%20Welding%20Defect%20Detection/Data_Augmentation/Join_csv.ipynb#ch0000004?line=6'>7</a>\u001b[0m root \u001b[39m=\u001b[39m xmlparse\u001b[39m.\u001b[39mgetroot()\n\u001b[0;32m      <a href='vscode-notebook-cell:/c%3A/Users/Lenovo/Desktop/Projects/Internship/Spot%20Welding%20Defect%20Detection/Data_Augmentation/Join_csv.ipynb#ch0000004?line=8'>9</a>\u001b[0m ID \u001b[39m=\u001b[39m file[\u001b[39m32\u001b[39m:\u001b[39m-\u001b[39m\u001b[39m3\u001b[39m]\u001b[39m+\u001b[39m\u001b[39m'\u001b[39m\u001b[39mjpeg\u001b[39m\u001b[39m'\u001b[39m\n",
      "File \u001b[1;32mc:\\Users\\Lenovo\\AppData\\Local\\Programs\\Python\\Python39\\lib\\xml\\etree\\ElementTree.py:1229\u001b[0m, in \u001b[0;36mparse\u001b[1;34m(source, parser)\u001b[0m\n\u001b[0;32m   1220\u001b[0m \u001b[39m\"\"\"Parse XML document into element tree.\u001b[39;00m\n\u001b[0;32m   1221\u001b[0m \n\u001b[0;32m   1222\u001b[0m \u001b[39m*source* is a filename or file object containing XML data,\u001b[39;00m\n\u001b[1;32m   (...)\u001b[0m\n\u001b[0;32m   1226\u001b[0m \n\u001b[0;32m   1227\u001b[0m \u001b[39m\"\"\"\u001b[39;00m\n\u001b[0;32m   1228\u001b[0m tree \u001b[39m=\u001b[39m ElementTree()\n\u001b[1;32m-> 1229\u001b[0m tree\u001b[39m.\u001b[39;49mparse(source, parser)\n\u001b[0;32m   1230\u001b[0m \u001b[39mreturn\u001b[39;00m tree\n",
      "File \u001b[1;32mc:\\Users\\Lenovo\\AppData\\Local\\Programs\\Python\\Python39\\lib\\xml\\etree\\ElementTree.py:569\u001b[0m, in \u001b[0;36mElementTree.parse\u001b[1;34m(self, source, parser)\u001b[0m\n\u001b[0;32m    567\u001b[0m close_source \u001b[39m=\u001b[39m \u001b[39mFalse\u001b[39;00m\n\u001b[0;32m    568\u001b[0m \u001b[39mif\u001b[39;00m \u001b[39mnot\u001b[39;00m \u001b[39mhasattr\u001b[39m(source, \u001b[39m\"\u001b[39m\u001b[39mread\u001b[39m\u001b[39m\"\u001b[39m):\n\u001b[1;32m--> 569\u001b[0m     source \u001b[39m=\u001b[39m \u001b[39mopen\u001b[39;49m(source, \u001b[39m\"\u001b[39;49m\u001b[39mrb\u001b[39;49m\u001b[39m\"\u001b[39;49m)\n\u001b[0;32m    570\u001b[0m     close_source \u001b[39m=\u001b[39m \u001b[39mTrue\u001b[39;00m\n\u001b[0;32m    571\u001b[0m \u001b[39mtry\u001b[39;00m:\n",
      "\u001b[1;31mFileNotFoundError\u001b[0m: [Errno 2] No such file or directory: 'C:\\\\Users\\\\Lenovo\\\\Desktop\\\\new-xml\\\\IMG_4544xml'"
     ]
    }
   ],
   "source": [
    "#Extract one bbox from each image \n",
    "cols = [\"ID\",\"x1\", \"y1\", \"x2\", \"y2\", \"c\"]\n",
    "for file in filenames:\n",
    "    file=file[:27]+'-xml'+file[27:-4]+'xml'\n",
    "\n",
    "    rows = []\n",
    "    xmlparse = Xet.parse(file)\n",
    "    root = xmlparse.getroot()\n",
    "\n",
    "    ID = file[32:-3]+'jpeg'\n",
    "    x1= int(root.find(\"object/bndbox/xmin\").text)\n",
    "    y1 = int(root.find(\"object/bndbox/ymax\").text)\n",
    "    x2 = int(root.find(\"object/bndbox/xmax\").text)\n",
    "    y2 = int(root.find(\"object/bndbox/ymin\").text)\n",
    "  \n",
    "    rows.append({\"ID\": ID,\n",
    "                 \"x1\": x1,\n",
    "                 \"y1\": y1,\n",
    "                 \"x2\": x2,\n",
    "                 \"y2\": y2,\n",
    "                 \"c\":0})\n",
    "  \n",
    "    line = pd.DataFrame(rows, columns=cols)\n",
    "    annotation=pd.concat([annotation,line],ignore_index=True)\n",
    "annotation.set_index('ID',inplace=True)\n",
    "annotation.to_csv('extract_csv_path')\n",
    "\n"
   ]
  }
 ],
 "metadata": {
  "interpreter": {
   "hash": "8f8cf99212f81ad0c4765861267244807ee1c18364846cdce387b28994a977ba"
  },
  "kernelspec": {
   "display_name": "Python 3.9.7 64-bit",
   "language": "python",
   "name": "python3"
  },
  "language_info": {
   "codemirror_mode": {
    "name": "ipython",
    "version": 3
   },
   "file_extension": ".py",
   "mimetype": "text/x-python",
   "name": "python",
   "nbconvert_exporter": "python",
   "pygments_lexer": "ipython3",
   "version": "3.9.7"
  },
  "orig_nbformat": 4
 },
 "nbformat": 4,
 "nbformat_minor": 2
}
