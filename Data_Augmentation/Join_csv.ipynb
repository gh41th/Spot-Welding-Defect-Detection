{
 "cells": [
  {
   "cell_type": "code",
   "execution_count": 1,
   "metadata": {},
   "outputs": [],
   "source": [
    "import pandas as pd \n",
    "import glob\n",
    "import xml.etree.ElementTree as Xet"
   ]
  },
  {
   "cell_type": "code",
   "execution_count": 2,
   "metadata": {},
   "outputs": [],
   "source": [
    "path = 'C:\\\\Users\\Lenovo\\Desktop\\downloads\\cropped\\\\bad-xml\\\\'\n",
    "filenames = glob.glob(path + \"\\*.xml\")\n",
    "annotation = pd.DataFrame()\n"
   ]
  },
  {
   "cell_type": "code",
   "execution_count": 3,
   "metadata": {},
   "outputs": [],
   "source": [
    "cols = [\"ID\",\"x1\", \"y1\", \"x2\", \"y2\", \"c\"]\n",
    "for file in filenames:\n",
    "  \n",
    "\n",
    "    rows = []\n",
    "    xmlparse = Xet.parse(file)\n",
    "    root = xmlparse.getroot()\n",
    "\n",
    "    ID = file[50:-3]+'jpeg'\n",
    "    x1= int(root.find(\"object/bndbox/xmin\").text)\n",
    "    y1 = int(root.find(\"object/bndbox/ymax\").text)\n",
    "    x2 = int(root.find(\"object/bndbox/xmax\").text)\n",
    "    y2 = int(root.find(\"object/bndbox/ymin\").text)\n",
    "  \n",
    "    rows.append({\"ID\": ID,\n",
    "                 \"x1\": x1,\n",
    "                 \"y1\": y1,\n",
    "                 \"x2\": x2,\n",
    "                 \"y2\": y2,\n",
    "                 \"c\":0})\n",
    "  \n",
    "    line = pd.DataFrame(rows, columns=cols)\n",
    "    annotation=pd.concat([annotation,line],ignore_index=True)\n",
    "\n"
   ]
  },
  {
   "cell_type": "code",
   "execution_count": 4,
   "metadata": {},
   "outputs": [],
   "source": [
    "annotation.set_index('ID',inplace=True)\n",
    "annotation.to_csv('bad.csv')"
   ]
  },
  {
   "cell_type": "code",
   "execution_count": 113,
   "metadata": {},
   "outputs": [],
   "source": [
    "path = 'C:\\\\Users\\Lenovo\\Desktop\\downloads\\cropped\\\\good-xml\\\\'\n",
    "filenames = glob.glob(path + \"\\*.xml\")\n",
    "annotation = pd.DataFrame()"
   ]
  },
  {
   "cell_type": "code",
   "execution_count": 114,
   "metadata": {},
   "outputs": [],
   "source": [
    "cols = [\"ID\",\"x1\", \"y1\", \"x2\", \"y2\", \"c\"]\n",
    "for file in filenames:\n",
    "  \n",
    "\n",
    "    rows = []\n",
    "    xmlparse = Xet.parse(file)\n",
    "    root = xmlparse.getroot()\n",
    "\n",
    "    ID = file[51:-3]+'jpeg'\n",
    "    x1= int(root.find(\"object/bndbox/xmin\").text)\n",
    "    y1 = int(root.find(\"object/bndbox/ymax\").text)\n",
    "    x2 = int(root.find(\"object/bndbox/xmax\").text)\n",
    "    y2 = int(root.find(\"object/bndbox/ymin\").text)\n",
    "  \n",
    "    rows.append({\"ID\": ID,\n",
    "                 \"x1\": x1,\n",
    "                 \"y1\": y1,\n",
    "                 \"x2\": x2,\n",
    "                 \"y2\": y2,\n",
    "                 \"c\":1})\n",
    "  \n",
    "    line = pd.DataFrame(rows, columns=cols)\n",
    "    annotation=pd.concat([annotation,line],ignore_index=True)"
   ]
  },
  {
   "cell_type": "code",
   "execution_count": 115,
   "metadata": {},
   "outputs": [],
   "source": [
    "annotation.set_index('ID',inplace=True)\n",
    "annotation.to_csv('good.csv')"
   ]
  },
  {
   "cell_type": "code",
   "execution_count": null,
   "metadata": {},
   "outputs": [],
   "source": []
  }
 ],
 "metadata": {
  "interpreter": {
   "hash": "8f8cf99212f81ad0c4765861267244807ee1c18364846cdce387b28994a977ba"
  },
  "kernelspec": {
   "display_name": "Python 3.9.7 64-bit",
   "language": "python",
   "name": "python3"
  },
  "language_info": {
   "codemirror_mode": {
    "name": "ipython",
    "version": 3
   },
   "file_extension": ".py",
   "mimetype": "text/x-python",
   "name": "python",
   "nbconvert_exporter": "python",
   "pygments_lexer": "ipython3",
   "version": "3.9.7"
  },
  "orig_nbformat": 4
 },
 "nbformat": 4,
 "nbformat_minor": 2
}
