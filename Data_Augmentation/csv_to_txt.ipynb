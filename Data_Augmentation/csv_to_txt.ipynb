{
 "cells": [
  {
   "cell_type": "code",
   "execution_count": 8,
   "metadata": {},
   "outputs": [],
   "source": [
    "import pandas as pd \n",
    "import glob\n",
    "import numpy as np "
   ]
  },
  {
   "cell_type": "code",
   "execution_count": 9,
   "metadata": {},
   "outputs": [],
   "source": [
    "#box=[x1,y1,x2,y2,c]\n",
    "def convert(box):\n",
    "    x = (box[0] + box[2])/2.0\n",
    "    y = (box[1] + box[3])/2.0\n",
    "    w = abs(box[0] - box[2])\n",
    "    h = abs(box[1] - box[3])\n",
    "    x = x/6000\n",
    "    w = w/6000\n",
    "    y = y/4000\n",
    "    h = h/4000\n",
    "    return (x,y,w,h)"
   ]
  },
  {
   "cell_type": "code",
   "execution_count": 10,
   "metadata": {},
   "outputs": [],
   "source": [
    "bad=pd.read_csv('augmented_new.csv',index_col='ID')"
   ]
  },
  {
   "cell_type": "code",
   "execution_count": 12,
   "metadata": {},
   "outputs": [],
   "source": [
    "access_path = 'C:\\\\Users\\Lenovo\\Desktop\\\\augmented\\\\'\n",
    "filenames = glob.glob(access_path + \"\\*.jpeg\")\n",
    "save_path=\"\""
   ]
  },
  {
   "cell_type": "code",
   "execution_count": null,
   "metadata": {},
   "outputs": [],
   "source": [
    "#multiple bboxes in one file.txt\n",
    "for file in filenames:\n",
    "    bb=bad.loc[[file[len(access_path):]],['x1','y1','x2','y2','c']].to_numpy().astype('float16')\n",
    "    path1=save_path+file[:-4]+'txt'\n",
    "    f = open(path1, 'w')\n",
    "    for b in bb:\n",
    "        x,y,w,h=convert(b)   \n",
    "        f.write(str(b[4])+' '+str(x)+' '+str(y)+' '+str(w)+' '+str(h)+'\\n')\n",
    "    f.close()\n"
   ]
  },
  {
   "cell_type": "code",
   "execution_count": 10,
   "metadata": {},
   "outputs": [],
   "source": [
    "#one bbox in each file.txt\n",
    "for file in filenames:\n",
    "    bb=bad.loc[[file[len(access_path):]],['x1','y1','x2','y2','c']].to_numpy().astype('float16')\n",
    "    x,y,w,h=convert(bb[0])\n",
    "    path1=save_path+file[len(access_path):-4]+'txt'\n",
    "    f = open(path1, 'w')\n",
    "    f.write(str(1.0)+','+str(x)+','+str(y)+','+str(w)+','+str(h))\n",
    "    f.close()"
   ]
  },
  {
   "cell_type": "code",
   "execution_count": null,
   "metadata": {},
   "outputs": [],
   "source": []
  }
 ],
 "metadata": {
  "kernelspec": {
   "display_name": "Python 3.9.7 64-bit",
   "language": "python",
   "name": "python3"
  },
  "language_info": {
   "codemirror_mode": {
    "name": "ipython",
    "version": 3
   },
   "file_extension": ".py",
   "mimetype": "text/x-python",
   "name": "python",
   "nbconvert_exporter": "python",
   "pygments_lexer": "ipython3",
   "version": "3.9.7"
  },
  "orig_nbformat": 4,
  "vscode": {
   "interpreter": {
    "hash": "8f8cf99212f81ad0c4765861267244807ee1c18364846cdce387b28994a977ba"
   }
  }
 },
 "nbformat": 4,
 "nbformat_minor": 2
}
