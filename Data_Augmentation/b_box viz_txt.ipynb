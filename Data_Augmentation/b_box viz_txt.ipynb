{
 "cells": [
  {
   "cell_type": "code",
   "execution_count": 1,
   "metadata": {},
   "outputs": [],
   "source": [
    "from data_aug.data_aug import *\n",
    "from data_aug.bbox_util import *\n",
    "import numpy as np \n",
    "import matplotlib.pyplot as plt \n",
    "import glob\n",
    "import pandas as pd\n",
    "%matplotlib inline"
   ]
  },
  {
   "cell_type": "code",
   "execution_count": 2,
   "metadata": {},
   "outputs": [],
   "source": [
    "path = 'C:\\\\Users\\Lenovo\\Desktop\\\\augmented\\\\'\n",
    "filenames = glob.glob(path + \"\\*.jpeg\")"
   ]
  },
  {
   "cell_type": "code",
   "execution_count": 3,
   "metadata": {},
   "outputs": [],
   "source": [
    "def conv(txt,img):\n",
    "    h,w,c=img.shape\n",
    "    j=[]\n",
    "    f=open(txt,'r')\n",
    "    gh=f.read()\n",
    "    bb=[i for i in gh.split('\\n')]\n",
    "    for bi in bb[:-1]:\n",
    "        b=[float(i) for i in bi.split(' ')]\n",
    "        x1=b[1]-b[3]/2\n",
    "        x2=x1+b[3]\n",
    "        y1=b[2]+b[4]/2\n",
    "        y2=y1-b[4]\n",
    "        j.append(np.array([[round(x1*w),round(y1*h),round(x2*w),round(y2*h),b[0]]]))\n",
    "    return(np.array(j))"
   ]
  },
  {
   "cell_type": "code",
   "execution_count": null,
   "metadata": {},
   "outputs": [],
   "source": [
    "save_path=\"\""
   ]
  },
  {
   "cell_type": "code",
   "execution_count": 16,
   "metadata": {},
   "outputs": [],
   "source": [
    "for file in filenames:\n",
    "    img=plt.imread(file)\n",
    "    txt= file[:-5]+'.txt'\n",
    "    bb=conv(txt,img)\n",
    "    plotted_img = draw_rect(img, bb)\n",
    "    plt.imsave(save_path+file[len(path):-4]+'.jpg',plotted_img)\n",
    "    "
   ]
  }
 ],
 "metadata": {
  "kernelspec": {
   "display_name": "Python 3.9.7 64-bit",
   "language": "python",
   "name": "python3"
  },
  "language_info": {
   "codemirror_mode": {
    "name": "ipython",
    "version": 3
   },
   "file_extension": ".py",
   "mimetype": "text/x-python",
   "name": "python",
   "nbconvert_exporter": "python",
   "pygments_lexer": "ipython3",
   "version": "3.9.7"
  },
  "orig_nbformat": 4,
  "vscode": {
   "interpreter": {
    "hash": "8f8cf99212f81ad0c4765861267244807ee1c18364846cdce387b28994a977ba"
   }
  }
 },
 "nbformat": 4,
 "nbformat_minor": 2
}
