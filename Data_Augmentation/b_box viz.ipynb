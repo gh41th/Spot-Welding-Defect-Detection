{
 "cells": [
  {
   "cell_type": "code",
   "execution_count": 25,
   "metadata": {},
   "outputs": [],
   "source": [
    "from data_aug.data_aug import *\n",
    "from data_aug.bbox_util import *\n",
    "import numpy as np \n",
    "import matplotlib.pyplot as plt \n",
    "import glob\n",
    "import pandas as pd\n",
    "%matplotlib inline"
   ]
  },
  {
   "cell_type": "code",
   "execution_count": 26,
   "metadata": {},
   "outputs": [],
   "source": [
    "good=pd.read_csv('good.csv',index_col='ID')\n",
    "bad=pd.read_csv('bad.csv',index_col='ID')"
   ]
  },
  {
   "cell_type": "code",
   "execution_count": 27,
   "metadata": {},
   "outputs": [],
   "source": [
    "path = 'C:\\\\Users\\Lenovo\\Desktop\\downloads\\cropped\\\\bad\\\\'\n",
    "filenames = glob.glob(path + \"\\*.jpeg\")"
   ]
  },
  {
   "cell_type": "code",
   "execution_count": 28,
   "metadata": {},
   "outputs": [],
   "source": [
    "for file in filenames:\n",
    "    img=plt.imread(file)\n",
    "    bb=np.array(bad.loc[[file[46:]],['x1','y1','x2','y2','c']].to_numpy()).astype('float16')\n",
    "    plotted_img = draw_rect(img, bb)\n",
    "    plt.imsave('C:\\\\Users\\Lenovo\\Desktop\\downloads\\cropped\\\\bb_bad\\\\'+file[46:],plotted_img)\n",
    "    "
   ]
  },
  {
   "cell_type": "code",
   "execution_count": 29,
   "metadata": {},
   "outputs": [],
   "source": [
    "path = 'C:\\\\Users\\Lenovo\\Desktop\\downloads\\cropped\\\\good\\\\'\n",
    "filenames = glob.glob(path + \"\\*.jpeg\")"
   ]
  },
  {
   "cell_type": "code",
   "execution_count": 30,
   "metadata": {},
   "outputs": [],
   "source": [
    "for file in filenames:\n",
    "    img=plt.imread(file)\n",
    "    bb=np.array(good.loc[[file[47:]],['x1','y1','x2','y2','c']].to_numpy()).astype('float64')\n",
    "    plotted_img = draw_rect(img, bb)\n",
    "    plt.imsave('C:\\\\Users\\Lenovo\\Desktop\\downloads\\cropped\\\\bb_good\\\\'+file[47:],plotted_img)"
   ]
  },
  {
   "cell_type": "code",
   "execution_count": null,
   "metadata": {},
   "outputs": [],
   "source": []
  }
 ],
 "metadata": {
  "kernelspec": {
   "display_name": "Python 3.9.7 64-bit",
   "language": "python",
   "name": "python3"
  },
  "language_info": {
   "codemirror_mode": {
    "name": "ipython",
    "version": 3
   },
   "file_extension": ".py",
   "mimetype": "text/x-python",
   "name": "python",
   "nbconvert_exporter": "python",
   "pygments_lexer": "ipython3",
   "version": "3.9.7"
  },
  "orig_nbformat": 4,
  "vscode": {
   "interpreter": {
    "hash": "8f8cf99212f81ad0c4765861267244807ee1c18364846cdce387b28994a977ba"
   }
  }
 },
 "nbformat": 4,
 "nbformat_minor": 2
}
