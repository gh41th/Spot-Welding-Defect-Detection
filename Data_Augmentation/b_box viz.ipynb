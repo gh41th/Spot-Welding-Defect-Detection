{
 "cells": [
  {
   "cell_type": "code",
   "execution_count": 43,
   "metadata": {},
   "outputs": [],
   "source": [
    "from data_aug.data_aug import *\n",
    "from data_aug.bbox_util import *\n",
    "import numpy as np \n",
    "import cv2 \n",
    "import matplotlib.pyplot as plt \n",
    "import pickle as pkl\n",
    "import glob\n",
    "import pandas as pd\n",
    "%matplotlib inline"
   ]
  },
  {
   "cell_type": "code",
   "execution_count": 47,
   "metadata": {},
   "outputs": [],
   "source": [
    "good=pd.read_csv('good.csv',index_col='ID')\n",
    "bad=pd.read_csv('bad.csv',index_col='ID')"
   ]
  },
  {
   "cell_type": "code",
   "execution_count": 48,
   "metadata": {},
   "outputs": [],
   "source": [
    "path = 'C:\\\\Users\\Lenovo\\Desktop\\downloads\\cropped\\\\bad\\\\'\n",
    "filenames = glob.glob(path + \"\\*.jpeg\")"
   ]
  },
  {
   "cell_type": "code",
   "execution_count": 50,
   "metadata": {},
   "outputs": [],
   "source": [
    "for i,file in enumerate(filenames):\n",
    "    img=plt.imread(file)\n",
    "    bb=np.array(bad.loc[[file[46:]],['x1','x2','y1','y2','c']].to_numpy()).astype('float16')\n",
    "    plotted_img = draw_rect(img, bb)\n",
    "    plt.imsave('C:\\\\Users\\Lenovo\\Desktop\\downloads\\cropped\\\\bb_bad\\\\'+file[46:],plotted_img)\n",
    "    "
   ]
  },
  {
   "cell_type": "code",
   "execution_count": 51,
   "metadata": {},
   "outputs": [],
   "source": [
    "path = 'C:\\\\Users\\Lenovo\\Desktop\\downloads\\cropped\\\\good\\\\'\n",
    "filenames = glob.glob(path + \"\\*.jpeg\")"
   ]
  },
  {
   "cell_type": "code",
   "execution_count": 52,
   "metadata": {},
   "outputs": [],
   "source": [
    "for file in filenames:\n",
    "    img=plt.imread(file)\n",
    "    bb=np.array(good.loc[[file[47:]],['x1','x2','y1','y2','c']].to_numpy()).astype('float64')\n",
    "    plotted_img = draw_rect(img, bb)\n",
    "    plt.imsave('C:\\\\Users\\Lenovo\\Desktop\\downloads\\cropped\\\\bb_good\\\\'+file[47:],plotted_img)"
   ]
  },
  {
   "cell_type": "code",
   "execution_count": 10,
   "metadata": {},
   "outputs": [],
   "source": [
    "seq0 = Sequence([ Rotate(0)])\n",
    "seq1 = Sequence([RandomHorizontalFlip(), RandomTranslate(0.13), Rotate(90), RandomShear(0.09)])\n",
    "seq2 = Sequence([RandomTranslate(0.13), Rotate(90), RandomShear(0.09)])\n",
    "seq3 = Sequence([RandomHorizontalFlip(), RandomTranslate(0.09), Rotate(180), RandomShear(0.09)])\n",
    "seq4 = Sequence([RandomTranslate(0.13), Rotate(180), RandomShear(0.09)])\n",
    "seq5 = Sequence([RandomHorizontalFlip(), RandomTranslate(0.13), Rotate(270), RandomShear(0.09)])\n",
    "Sequences=[seq0,seq1,seq2,seq3,seq4,seq5]"
   ]
  },
  {
   "cell_type": "code",
   "execution_count": 11,
   "metadata": {},
   "outputs": [],
   "source": [
    "augmented=pd.DataFrame()\n",
    "for i,s in enumerate(Sequences):\n",
    "\n",
    "    img_, bb_ = s(img.copy(), bb.copy())\n",
    "    path=\"C:\\\\Users\\Lenovo\\Desktop\\\\augmented\\\\\"+file[34:-5]+'seq'+str(i)+'.jpeg'\n",
    "    plt.imsave(path,img_)\n",
    "    dict={'ID':path[34:],'x1':bb_[0][0],'y1':bb_[0][1],'x2':bb_[0][2],'y2':bb_[0][3],'c':bb_[0][4]}\n",
    "    line=pd.DataFrame(pd.Series(dict)).T\n",
    "    augmented=pd.concat([augmented,line],ignore_index=True)\n",
    "augmented.set_index('ID',inplace=True)\n",
    "augmented.to_csv('augmented.csv')"
   ]
  },
  {
   "cell_type": "code",
   "execution_count": 12,
   "metadata": {},
   "outputs": [
    {
     "data": {
      "text/html": [
       "<div>\n",
       "<style scoped>\n",
       "    .dataframe tbody tr th:only-of-type {\n",
       "        vertical-align: middle;\n",
       "    }\n",
       "\n",
       "    .dataframe tbody tr th {\n",
       "        vertical-align: top;\n",
       "    }\n",
       "\n",
       "    .dataframe thead th {\n",
       "        text-align: right;\n",
       "    }\n",
       "</style>\n",
       "<table border=\"1\" class=\"dataframe\">\n",
       "  <thead>\n",
       "    <tr style=\"text-align: right;\">\n",
       "      <th></th>\n",
       "      <th>x1</th>\n",
       "      <th>y1</th>\n",
       "      <th>x2</th>\n",
       "      <th>y2</th>\n",
       "      <th>c</th>\n",
       "    </tr>\n",
       "    <tr>\n",
       "      <th>ID</th>\n",
       "      <th></th>\n",
       "      <th></th>\n",
       "      <th></th>\n",
       "      <th></th>\n",
       "      <th></th>\n",
       "    </tr>\n",
       "  </thead>\n",
       "  <tbody>\n",
       "    <tr>\n",
       "      <th>10mid-1seq0.jpeg</th>\n",
       "      <td>39.0</td>\n",
       "      <td>34.0</td>\n",
       "      <td>273.0</td>\n",
       "      <td>270.0</td>\n",
       "      <td>1.0</td>\n",
       "    </tr>\n",
       "    <tr>\n",
       "      <th>10mid-1seq1.jpeg</th>\n",
       "      <td>36.694553</td>\n",
       "      <td>23.0</td>\n",
       "      <td>272.856934</td>\n",
       "      <td>257.0</td>\n",
       "      <td>1.0</td>\n",
       "    </tr>\n",
       "    <tr>\n",
       "      <th>10mid-1seq2.jpeg</th>\n",
       "      <td>63.452644</td>\n",
       "      <td>0.0</td>\n",
       "      <td>298.322144</td>\n",
       "      <td>232.0</td>\n",
       "      <td>1.0</td>\n",
       "    </tr>\n",
       "    <tr>\n",
       "      <th>10mid-1seq3.jpeg</th>\n",
       "      <td>26.731871</td>\n",
       "      <td>17.0</td>\n",
       "      <td>260.388214</td>\n",
       "      <td>253.0</td>\n",
       "      <td>1.0</td>\n",
       "    </tr>\n",
       "    <tr>\n",
       "      <th>10mid-1seq4.jpeg</th>\n",
       "      <td>0.0</td>\n",
       "      <td>0.0</td>\n",
       "      <td>228.39975</td>\n",
       "      <td>234.0</td>\n",
       "      <td>1.0</td>\n",
       "    </tr>\n",
       "    <tr>\n",
       "      <th>10mid-1seq5.jpeg</th>\n",
       "      <td>0.0</td>\n",
       "      <td>75.0</td>\n",
       "      <td>229.553741</td>\n",
       "      <td>300.0</td>\n",
       "      <td>1.0</td>\n",
       "    </tr>\n",
       "  </tbody>\n",
       "</table>\n",
       "</div>"
      ],
      "text/plain": [
       "                         x1    y1          x2     y2    c\n",
       "ID                                                       \n",
       "10mid-1seq0.jpeg       39.0  34.0       273.0  270.0  1.0\n",
       "10mid-1seq1.jpeg  36.694553  23.0  272.856934  257.0  1.0\n",
       "10mid-1seq2.jpeg  63.452644   0.0  298.322144  232.0  1.0\n",
       "10mid-1seq3.jpeg  26.731871  17.0  260.388214  253.0  1.0\n",
       "10mid-1seq4.jpeg        0.0   0.0   228.39975  234.0  1.0\n",
       "10mid-1seq5.jpeg        0.0  75.0  229.553741  300.0  1.0"
      ]
     },
     "execution_count": 12,
     "metadata": {},
     "output_type": "execute_result"
    }
   ],
   "source": [
    "augmented"
   ]
  },
  {
   "cell_type": "code",
   "execution_count": null,
   "metadata": {},
   "outputs": [],
   "source": []
  }
 ],
 "metadata": {
  "kernelspec": {
   "display_name": "Python 3.9.7 64-bit",
   "language": "python",
   "name": "python3"
  },
  "language_info": {
   "codemirror_mode": {
    "name": "ipython",
    "version": 3
   },
   "file_extension": ".py",
   "mimetype": "text/x-python",
   "name": "python",
   "nbconvert_exporter": "python",
   "pygments_lexer": "ipython3",
   "version": "3.9.7"
  },
  "orig_nbformat": 4,
  "vscode": {
   "interpreter": {
    "hash": "8f8cf99212f81ad0c4765861267244807ee1c18364846cdce387b28994a977ba"
   }
  }
 },
 "nbformat": 4,
 "nbformat_minor": 2
}
