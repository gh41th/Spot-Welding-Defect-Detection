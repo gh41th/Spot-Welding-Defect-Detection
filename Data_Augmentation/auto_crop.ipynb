{
 "cells": [
  {
   "cell_type": "code",
   "execution_count": 44,
   "metadata": {},
   "outputs": [],
   "source": [
    "from data_aug.bbox_util import *\n",
    "import pandas as pd \n",
    "import glob\n",
    "import xml.etree.ElementTree as Xet\n",
    "import numpy as np\n",
    "import matplotlib.pyplot as plt\n",
    "import cv2"
   ]
  },
  {
   "cell_type": "code",
   "execution_count": 45,
   "metadata": {},
   "outputs": [],
   "source": [
    "path=\"C:\\\\Users\\Lenovo\\Desktop\\\\\"\n",
    "filenames=glob.glob(path+'*.xml')"
   ]
  },
  {
   "cell_type": "code",
   "execution_count": 52,
   "metadata": {},
   "outputs": [],
   "source": [
    "def crop(a,bboxes,img,Cropped):\n",
    "    # a: the crop box \n",
    "    cols = [\"ID\",\"x1\", \"y1\", \"x2\", \"y2\", \"c\"]\n",
    "    for i in bboxes:\n",
    "        #Copy the boundary box params\n",
    "        x1=i[0]\n",
    "        y1=i[1]\n",
    "        x2=i[2]\n",
    "        y2=i[3]\n",
    "        c=i[4]\n",
    "\n",
    "        #Set the margin for the crop  \n",
    "        x_margin=a-(x2-x1)\n",
    "        y_margin=a-(y1-y2)\n",
    "        #Calculate the copping coordinates\n",
    "        x_1=x1-x_margin//2\n",
    "        x_2=x_1+a\n",
    "        y_2=y2-y_margin//2\n",
    "        y_1=y_2+a\n",
    "        #Cropping\n",
    "        print(x_1,x_2,y_1,y_2)\n",
    "        imag=img[y_2:y_1,x_1:x_2,:]\n",
    "        #Update the boundary box coordinates\n",
    "        x1=x1-x_1\n",
    "        y1=y1-y_2\n",
    "        x2=x2-x_1\n",
    "        y2=y2-y_2\n",
    "        \n",
    "        rows = []\n",
    "        ID='gh'+str(i)+'.jpg'\n",
    "        rows.append({\"ID\": ID,\n",
    "                 \"x1\": x1,\n",
    "                 \"y1\": y1,\n",
    "                 \"x2\": x2,\n",
    "                 \"y2\": y2,\n",
    "                 \"c\":1})\n",
    "\n",
    "        line = pd.DataFrame(rows, columns=cols)\n",
    "        Cropped=pd.concat([Cropped,line],ignore_index=True)\n",
    "        #Needs more code XD\n",
    "        bb=np.array([x1,y1,x2,y2,0])\n",
    "        plotted_img = draw_rect(imag, bb)\n",
    "        print(bb)\n",
    "        save_path='gh'+str(i)+'.jpg'\n",
    "        plt.imsave(save_path,plotted_img)\n",
    "        \n",
    "    return(Cropped)"
   ]
  },
  {
   "cell_type": "code",
   "execution_count": 54,
   "metadata": {},
   "outputs": [
    {
     "name": "stdout",
     "output_type": "stream",
     "text": [
      "1149 1449 2681 2381\n",
      "[ 13 284 287  15   0]\n",
      "1942 2242 3200 2900\n",
      "[  2 300 298   0   0]\n",
      "3064 3364 2332 2032\n",
      "[ 21 277 278  23   0]\n",
      "3063 3363 3423 3123\n",
      "[ 15 288 284  12   0]\n",
      "3100 3400 4439 4139\n",
      "[ 13 290 287  10   0]\n",
      "2141 2441 4371 4071\n",
      "[ 14 285 286  14   0]\n",
      "961 1261 4346 4046\n",
      "[ 30 276 270  23   0]\n"
     ]
    }
   ],
   "source": [
    "Cropped=pd.DataFrame()\n",
    "for file in filenames:\n",
    "    xmlparse = Xet.parse(file)\n",
    "    root = xmlparse.getroot()\n",
    "    bbs=[]\n",
    "    for i in root:\n",
    "        if i.find(\"bndbox/xmin\")!=None:\n",
    "        \n",
    "            x1= int(i.find(\"bndbox/xmin\").text)\n",
    "            y1 = int(i.find(\"bndbox/ymax\").text)\n",
    "            x2 = int(i.find(\"bndbox/xmax\").text)\n",
    "            y2 = int(i.find(\"bndbox/ymin\").text)\n",
    "            c=0\n",
    "            bbs.append([x1,y1,x2,y2,c])\n",
    "    bbs=np.array(bbs)\n",
    "    img=cv2.imread(file[:-3]+'JPG')[:,:,::-1]  \n",
    "    Cropped=crop(300,bbs,img,Cropped)\n",
    "Cropped.set_index(\"ID\",inplace=True)\n",
    "Cropped.to_csv('bbox_cropped.csv')    \n"
   ]
  },
  {
   "cell_type": "code",
   "execution_count": null,
   "metadata": {},
   "outputs": [],
   "source": []
  }
 ],
 "metadata": {
  "interpreter": {
   "hash": "8f8cf99212f81ad0c4765861267244807ee1c18364846cdce387b28994a977ba"
  },
  "kernelspec": {
   "display_name": "Python 3.9.7 64-bit",
   "language": "python",
   "name": "python3"
  },
  "language_info": {
   "codemirror_mode": {
    "name": "ipython",
    "version": 3
   },
   "file_extension": ".py",
   "mimetype": "text/x-python",
   "name": "python",
   "nbconvert_exporter": "python",
   "pygments_lexer": "ipython3",
   "version": "3.9.7"
  },
  "orig_nbformat": 4
 },
 "nbformat": 4,
 "nbformat_minor": 2
}
