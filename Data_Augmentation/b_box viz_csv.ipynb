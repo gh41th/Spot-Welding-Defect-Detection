{
 "cells": [
  {
   "cell_type": "code",
   "execution_count": 31,
   "metadata": {},
   "outputs": [],
   "source": [
    "from data_aug.data_aug import *\n",
    "from data_aug.bbox_util import *\n",
    "import numpy as np \n",
    "import matplotlib.pyplot as plt \n",
    "import glob\n",
    "import pandas as pd\n",
    "%matplotlib inline"
   ]
  },
  {
   "cell_type": "code",
   "execution_count": 34,
   "metadata": {},
   "outputs": [],
   "source": [
    "bboxes_csv_path=\"augmented_new.csv\"\n",
    "bboxes=pd.read_csv(bboxes_csv_path,index_col='ID')"
   ]
  },
  {
   "cell_type": "code",
   "execution_count": 35,
   "metadata": {},
   "outputs": [],
   "source": [
    "path = 'C:\\\\Users\\Lenovo\\Desktop\\\\augmented\\\\'\n",
    "filenames = glob.glob(path + \"\\*.jpeg\")"
   ]
  },
  {
   "cell_type": "code",
   "execution_count": 36,
   "metadata": {},
   "outputs": [],
   "source": [
    "save_path='C:\\\\Users\\Lenovo\\Desktop\\\\bb\\\\'"
   ]
  },
  {
   "cell_type": "code",
   "execution_count": 37,
   "metadata": {},
   "outputs": [],
   "source": [
    "for file in filenames:\n",
    "    img=plt.imread(file)\n",
    "    bb=np.array(bboxes.loc[[file[len(path):]],['x1','y1','x2','y2','c']].to_numpy()).astype('float16')\n",
    "    plotted_img = draw_rect(img, bb)\n",
    "    plt.imsave(save_path+file[len(path):-4]+'.jpeg',plotted_img)"
   ]
  },
  {
   "cell_type": "code",
   "execution_count": null,
   "metadata": {},
   "outputs": [],
   "source": []
  }
 ],
 "metadata": {
  "kernelspec": {
   "display_name": "Python 3.9.7 64-bit",
   "language": "python",
   "name": "python3"
  },
  "language_info": {
   "codemirror_mode": {
    "name": "ipython",
    "version": 3
   },
   "file_extension": ".py",
   "mimetype": "text/x-python",
   "name": "python",
   "nbconvert_exporter": "python",
   "pygments_lexer": "ipython3",
   "version": "3.9.7"
  },
  "orig_nbformat": 4,
  "vscode": {
   "interpreter": {
    "hash": "8f8cf99212f81ad0c4765861267244807ee1c18364846cdce387b28994a977ba"
   }
  }
 },
 "nbformat": 4,
 "nbformat_minor": 2
}
